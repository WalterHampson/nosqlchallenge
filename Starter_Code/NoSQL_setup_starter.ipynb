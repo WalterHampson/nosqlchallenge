{
 "cells": [
  {
   "cell_type": "markdown",
   "id": "9a57c4c6",
   "metadata": {},
   "source": [
    "# Eat Safe, Love"
   ]
  },
  {
   "cell_type": "markdown",
   "id": "064ef857",
   "metadata": {},
   "source": [
    "## Part 1: Database and Jupyter Notebook Set Up"
   ]
  },
  {
   "cell_type": "markdown",
   "id": "664e3c1f",
   "metadata": {},
   "source": [
    "Import the data provided in the `establishments.json` file from your Terminal. Name the database `uk_food` and the collection `establishments`.\n",
    "\n",
    "Within this markdown cell, copy the line of text you used to import the data from your Terminal. This way, future analysts will be able to repeat your process.\n",
    "\n",
    "e.g.: Import the dataset with `mongoimport --type json -d uk_food -c establishments --drop --jsonArray establishments.json`"
   ]
  },
  {
   "cell_type": "code",
   "execution_count": null,
   "id": "3ecdd008",
   "metadata": {},
   "outputs": [],
   "source": [
    "# Import dependencies\n",
    "from pymongo import MongoClient\n",
    "from pprint import pprint"
   ]
  },
  {
   "cell_type": "code",
   "execution_count": null,
   "id": "59390c4a",
   "metadata": {},
   "outputs": [],
   "source": [
    "# Create an instance of MongoClient\n",
    "mongo = MongoClient(port=27017)"
   ]
  },
  {
   "cell_type": "code",
   "execution_count": null,
   "id": "7f9ececa",
   "metadata": {},
   "outputs": [],
   "source": [
    "# confirm that our new database was created\n"
   ]
  },
  {
   "cell_type": "code",
   "execution_count": null,
   "id": "71e373c1",
   "metadata": {},
   "outputs": [],
   "source": [
    "# assign the uk_food database to a variable name\n",
    "db = mongo['uk_food']"
   ]
  },
  {
   "cell_type": "code",
   "execution_count": null,
   "id": "ef1b89ed",
   "metadata": {},
   "outputs": [],
   "source": [
    "# review the collections in our new database\n"
   ]
  },
  {
   "cell_type": "code",
   "execution_count": null,
   "id": "18ab463c",
   "metadata": {},
   "outputs": [],
   "source": [
    "# review the collections in our new database\n"
   ]
  },
  {
   "cell_type": "code",
   "execution_count": null,
   "id": "6a0d92df",
   "metadata": {},
   "outputs": [],
   "source": [
    "# review a document in the establishments collection\n"
   ]
  },
  {
   "cell_type": "code",
   "execution_count": null,
   "id": "11c9f11b",
   "metadata": {},
   "outputs": [],
   "source": [
    "# assign the collection to a variable\n",
    "establishments = db['establishments']"
   ]
  },
  {
   "cell_type": "code",
   "execution_count": 1,
   "id": "b3db9431-68e0-4686-a2d7-ecee4387b27a",
   "metadata": {
    "tags": []
   },
   "outputs": [
    {
     "name": "stdout",
     "output_type": "stream",
     "text": [
      "List of databases in MongoDB:\n",
      "['admin', 'config', 'local', 'met']\n",
      "Collections in the 'uk_food' database:\n",
      "[]\n",
      "First document in the 'establishments' collection:\n",
      "None\n"
     ]
    }
   ],
   "source": [
    "# Import dependencies\n",
    "from pymongo import MongoClient\n",
    "from pprint import pprint\n",
    "\n",
    "# Create an instance of MongoClient\n",
    "mongo = MongoClient(port=27017)\n",
    "\n",
    "# Confirm that our new database was created\n",
    "print(\"List of databases in MongoDB:\")\n",
    "print(mongo.list_database_names())\n",
    "\n",
    "# Assign the uk_food database to a variable name\n",
    "db = mongo['uk_food']\n",
    "\n",
    "# Review the collections in our new database\n",
    "print(\"Collections in the 'uk_food' database:\")\n",
    "print(db.list_collection_names())\n",
    "\n",
    "# Review a document in the establishments collection\n",
    "print(\"First document in the 'establishments' collection:\")\n",
    "pprint(db.establishments.find_one())\n",
    "\n",
    "# Assign the collection to a variable\n",
    "establishments = db['establishments']\n"
   ]
  },
  {
   "cell_type": "markdown",
   "id": "d5671434",
   "metadata": {},
   "source": [
    "## Part 2: Update the Database"
   ]
  },
  {
   "cell_type": "markdown",
   "id": "314bd884",
   "metadata": {},
   "source": [
    "1. An exciting new halal restaurant just opened in Greenwich, but hasn't been rated yet. The magazine has asked you to include it in your analysis. Add the following restaurant \"Penang Flavours\" to the database."
   ]
  },
  {
   "cell_type": "code",
   "execution_count": null,
   "id": "c2da7648",
   "metadata": {},
   "outputs": [],
   "source": [
    "# Create a dictionary for the new restaurant data\n"
   ]
  },
  {
   "cell_type": "code",
   "execution_count": null,
   "id": "a6e5cece",
   "metadata": {},
   "outputs": [],
   "source": [
    "# Insert the new restaurant into the collection\n"
   ]
  },
  {
   "cell_type": "code",
   "execution_count": null,
   "id": "63bb10f9",
   "metadata": {},
   "outputs": [],
   "source": [
    "# Check that the new restaurant was inserted\n"
   ]
  },
  {
   "cell_type": "markdown",
   "id": "0ef4395a",
   "metadata": {},
   "source": [
    "2. Find the BusinessTypeID for \"Restaurant/Cafe/Canteen\" and return only the `BusinessTypeID` and `BusinessType` fields."
   ]
  },
  {
   "cell_type": "code",
   "execution_count": null,
   "id": "93c63829",
   "metadata": {},
   "outputs": [],
   "source": [
    "# Find the BusinessTypeID for \"Restaurant/Cafe/Canteen\" and return only the BusinessTypeID and BusinessType fields\n"
   ]
  },
  {
   "cell_type": "markdown",
   "id": "4e570caf",
   "metadata": {},
   "source": [
    "3. Update the new restaurant with the `BusinessTypeID` you found."
   ]
  },
  {
   "cell_type": "code",
   "execution_count": null,
   "id": "7f599f3d",
   "metadata": {},
   "outputs": [],
   "source": [
    "# Update the new restaurant with the correct BusinessTypeID\n"
   ]
  },
  {
   "cell_type": "code",
   "execution_count": null,
   "id": "a6ad16f7",
   "metadata": {},
   "outputs": [],
   "source": [
    "# Confirm that the new restaurant was updated\n"
   ]
  },
  {
   "cell_type": "markdown",
   "id": "67281254",
   "metadata": {},
   "source": [
    "4. The magazine is not interested in any establishments in Dover, so check how many documents contain the Dover Local Authority. Then, remove any establishments within the Dover Local Authority from the database, and check the number of documents to ensure they were deleted."
   ]
  },
  {
   "cell_type": "code",
   "execution_count": null,
   "id": "768474a6",
   "metadata": {},
   "outputs": [],
   "source": [
    "# Find how many documents have LocalAuthorityName as \"Dover\"\n"
   ]
  },
  {
   "cell_type": "code",
   "execution_count": null,
   "id": "a11d5f1b",
   "metadata": {},
   "outputs": [],
   "source": [
    "# Delete all documents where LocalAuthorityName is \"Dover\"\n"
   ]
  },
  {
   "cell_type": "code",
   "execution_count": null,
   "id": "2a51aba0",
   "metadata": {},
   "outputs": [],
   "source": [
    "# Check if any remaining documents include Dover\n"
   ]
  },
  {
   "cell_type": "code",
   "execution_count": null,
   "id": "8c356f7b",
   "metadata": {},
   "outputs": [],
   "source": [
    "# Check that other documents remain with 'find_one'\n"
   ]
  },
  {
   "cell_type": "markdown",
   "id": "e9f1662d",
   "metadata": {},
   "source": [
    "5. Some of the number values are stored as strings, when they should be stored as numbers."
   ]
  },
  {
   "cell_type": "markdown",
   "id": "c46df2df",
   "metadata": {},
   "source": [
    "Use `update_many` to convert `latitude` and `longitude` to decimal numbers."
   ]
  },
  {
   "cell_type": "code",
   "execution_count": null,
   "id": "fd4112ce",
   "metadata": {},
   "outputs": [],
   "source": [
    "# Change the data type from String to Decimal for longitude and latitude\n"
   ]
  },
  {
   "cell_type": "markdown",
   "id": "142e319c",
   "metadata": {},
   "source": [
    "Use `update_many` to convert `RatingValue` to integer numbers."
   ]
  },
  {
   "cell_type": "code",
   "execution_count": null,
   "id": "04430a5b",
   "metadata": {},
   "outputs": [],
   "source": [
    "# Set non 1-5 Rating Values to Null\n",
    "non_ratings = [\"AwaitingInspection\", \"Awaiting Inspection\", \"AwaitingPublication\", \"Pass\", \"Exempt\"]\n",
    "establishments.update_many({\"RatingValue\": {\"$in\": non_ratings}}, [ {'$set':{ \"RatingValue\" : None}} ])"
   ]
  },
  {
   "cell_type": "code",
   "execution_count": null,
   "id": "92524ccc",
   "metadata": {},
   "outputs": [],
   "source": [
    "# Change the data type from String to Integer for RatingValue\n"
   ]
  },
  {
   "cell_type": "code",
   "execution_count": null,
   "id": "0deacaf9",
   "metadata": {},
   "outputs": [],
   "source": [
    "# Check that the coordinates and rating value are now numbers\n"
   ]
  },
  {
   "cell_type": "code",
   "execution_count": 3,
   "id": "8a55a5a0-71ae-4975-a49a-75a1e52d8c36",
   "metadata": {
    "tags": []
   },
   "outputs": [
    {
     "name": "stdout",
     "output_type": "stream",
     "text": [
      "New restaurant inserted with ID: 660e0a5033e36baf38b64fd9\n",
      "Newly inserted restaurant:\n",
      "{'BusinessName': 'Penang Flavours',\n",
      " 'LocalAuthorityName': 'Greenwich',\n",
      " 'RatingValue': None,\n",
      " '_id': ObjectId('660e0a0d33e36baf38b64fd7')}\n",
      "Business Type ID for Restaurant/Cafe/Canteen not found.\n",
      "Number of establishments in Dover: 0\n",
      "Number of documents deleted: 0\n",
      "Remaining documents with Dover: None\n",
      "Example remaining document:\n",
      "{'BusinessName': 'Penang Flavours',\n",
      " 'LocalAuthorityName': 'Greenwich',\n",
      " 'RatingValue': None,\n",
      " '_id': ObjectId('660e0a0d33e36baf38b64fd7')}\n",
      "Example document with converted values:\n",
      "{'BusinessName': 'Penang Flavours',\n",
      " 'LocalAuthorityName': 'Greenwich',\n",
      " 'RatingValue': None,\n",
      " '_id': ObjectId('660e0a0d33e36baf38b64fd7')}\n"
     ]
    }
   ],
   "source": [
    "# Import dependencies\n",
    "from pymongo import MongoClient\n",
    "from pprint import pprint\n",
    "\n",
    "# Create an instance of MongoClient\n",
    "mongo = MongoClient(port=27017)\n",
    "\n",
    "# Assign the uk_food database to a variable name\n",
    "db = mongo['uk_food']\n",
    "\n",
    "# Assign the establishments collection to a variable\n",
    "establishments = db['establishments']\n",
    "\n",
    "# Create a dictionary for the new restaurant data\n",
    "new_restaurant = {\n",
    "    \"BusinessName\": \"Penang Flavours\",\n",
    "    \"LocalAuthorityName\": \"Greenwich\",\n",
    "    \"RatingValue\": None  # No rating yet\n",
    "}\n",
    "\n",
    "# Insert the new restaurant into the collection\n",
    "insert_result = establishments.insert_one(new_restaurant)\n",
    "print(\"New restaurant inserted with ID:\", insert_result.inserted_id)\n",
    "\n",
    "# Check that the new restaurant was inserted\n",
    "print(\"Newly inserted restaurant:\")\n",
    "pprint(establishments.find_one({\"BusinessName\": \"Penang Flavours\"}))\n",
    "\n",
    "# Find the BusinessTypeID for \"Restaurant/Cafe/Canteen\" and return only the BusinessTypeID and BusinessType fields\n",
    "business_type = establishments.find_one({\"BusinessType\": \"Restaurant/Cafe/Canteen\"}, {\"BusinessTypeID\": 1, \"BusinessType\": 1, \"_id\": 0})\n",
    "\n",
    "# Check if the query returned a result\n",
    "if business_type:\n",
    "    print(\"Business Type ID for Restaurant/Cafe/Canteen:\", business_type)\n",
    "    \n",
    "    # Update the new restaurant with the correct BusinessTypeID\n",
    "    update_result = establishments.update_one({\"BusinessName\": \"Penang Flavours\"}, {\"$set\": {\"BusinessTypeID\": business_type[\"BusinessTypeID\"]}})\n",
    "    \n",
    "    # Check if the update was successful\n",
    "    if update_result.modified_count > 0:\n",
    "        print(\"New restaurant updated with BusinessTypeID:\", business_type[\"BusinessTypeID\"])\n",
    "    else:\n",
    "        print(\"No updates made to the new restaurant.\")\n",
    "else:\n",
    "    print(\"Business Type ID for Restaurant/Cafe/Canteen not found.\")\n",
    "\n",
    "# Find how many documents have LocalAuthorityName as \"Dover\"\n",
    "num_dover_establishments = establishments.count_documents({\"LocalAuthorityName\": \"Dover\"})\n",
    "print(\"Number of establishments in Dover:\", num_dover_establishments)\n",
    "\n",
    "# Delete all documents where LocalAuthorityName is \"Dover\"\n",
    "delete_result = establishments.delete_many({\"LocalAuthorityName\": \"Dover\"})\n",
    "print(\"Number of documents deleted:\", delete_result.deleted_count)\n",
    "\n",
    "# Check if any remaining documents include Dover\n",
    "remaining_dover_establishments = establishments.find_one({\"LocalAuthorityName\": \"Dover\"})\n",
    "print(\"Remaining documents with Dover:\", remaining_dover_establishments)\n",
    "\n",
    "# Check that other documents remain with 'find_one'\n",
    "print(\"Example remaining document:\")\n",
    "pprint(establishments.find_one())\n",
    "\n",
    "# Set non 1-5 Rating Values to Null\n",
    "non_ratings = [\"AwaitingInspection\", \"Awaiting Inspection\", \"AwaitingPublication\", \"Pass\", \"Exempt\"]\n",
    "establishments.update_many({\"RatingValue\": {\"$in\": non_ratings}}, {'$set': {\"RatingValue\": None}})\n",
    "\n",
    "# Check that the coordinates and rating value are now numbers\n",
    "example_document = establishments.find_one()\n",
    "print(\"Example document with converted values:\")\n",
    "pprint(example_document)\n"
   ]
  },
  {
   "cell_type": "code",
   "execution_count": null,
   "id": "83218acf-96c6-49c5-83b6-819d788c81e7",
   "metadata": {},
   "outputs": [],
   "source": []
  }
 ],
 "metadata": {
  "kernelspec": {
   "display_name": "Python 3 (ipykernel)",
   "language": "python",
   "name": "python3"
  },
  "language_info": {
   "codemirror_mode": {
    "name": "ipython",
    "version": 3
   },
   "file_extension": ".py",
   "mimetype": "text/x-python",
   "name": "python",
   "nbconvert_exporter": "python",
   "pygments_lexer": "ipython3",
   "version": "3.11.5"
  }
 },
 "nbformat": 4,
 "nbformat_minor": 5
}
